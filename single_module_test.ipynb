{
 "cells": [
  {
   "cell_type": "markdown",
   "id": "67148ee9",
   "metadata": {},
   "source": [
    "### graphrag/chunker.py"
   ]
  },
  {
   "cell_type": "code",
   "execution_count": 11,
   "id": "f1c39732",
   "metadata": {},
   "outputs": [
    {
     "name": "stdout",
     "output_type": "stream",
     "text": [
      "demo.txt::chunk-0 AB CD E F\n",
      "demo.txt::chunk-1 F G H I\n",
      "demo.txt::chunk-2 I J\n"
     ]
    }
   ],
   "source": [
    "from graphrag.chunker import chunk_document\n",
    "from graphrag.data_loader import Document\n",
    "\n",
    "doc = Document(doc_id=\"demo.txt\", title=\"Demo\", body=\"AB CD E F G H I J\")\n",
    "chunks = chunk_document(doc, max_tokens=4, overlap=1)\n",
    "for c in chunks:\n",
    "    print(c.chunk_id, c.text)"
   ]
  },
  {
   "cell_type": "markdown",
   "id": "671ff26d",
   "metadata": {},
   "source": [
    "### graphrag/entity_extraction.py"
   ]
  },
  {
   "cell_type": "code",
   "execution_count": 3,
   "id": "5aabb78c",
   "metadata": {},
   "outputs": [
    {
     "name": "stdout",
     "output_type": "stream",
     "text": [
      "['graphrag', 'knowledge_graphs', 'retrieval', 'you', 'chatgpt'] [('graphrag', 'knowledge_graphs', 1.0), ('graphrag', 'retrieval', 1.0), ('knowledge_graphs', 'retrieval', 1.0), ('chatgpt', 'you', 1.0)]\n"
     ]
    }
   ],
   "source": [
    "from graphrag.entity_extraction import extract_entities, extract_relations\n",
    "from graphrag.chunker import Chunk\n",
    "\n",
    "chunks = [Chunk(chunk_id=\"c1\", doc_id=\"d1\", text=\"GraphRAG uses Knowledge Graphs in Retrieval\")\n",
    "            , Chunk(chunk_id=\"c2\", doc_id=\"d2\", text=\"Knowledge Graphs store entities and relations\")\n",
    "            , Chunk(chunk_id=\"c3\", doc_id=\"d3\", text=\"You are Chatgpt\")\n",
    "          ]\n",
    "entities = extract_entities(chunks, min_freq=1)\n",
    "relations = extract_relations(chunks, entities)\n",
    "print(list(entities.keys()), [(r.head_id, r.tail_id, r.weight) for r in relations])"
   ]
  },
  {
   "cell_type": "markdown",
   "id": "961e92cb",
   "metadata": {},
   "source": [
    "### graphrag/embedder.py"
   ]
  },
  {
   "cell_type": "code",
   "execution_count": 1,
   "id": "cb61dfdd",
   "metadata": {},
   "outputs": [
    {
     "name": "stdout",
     "output_type": "stream",
     "text": [
      "0.6270710044341915\n"
     ]
    }
   ],
   "source": [
    "from graphrag.embedder import BagOfWordsEmbedder, cosine_similarity\n",
    "\n",
    "emb = BagOfWordsEmbedder()\n",
    "emb.fit([\"GraphRAG blends graphs and vectors\", \"Graphs improve retrieval\"])\n",
    "q = emb.transform(\"graph retrieval\")\n",
    "c = emb.transform(\"graphs improve retrieval\")\n",
    "print(cosine_similarity(q, c))"
   ]
  },
  {
   "cell_type": "markdown",
   "id": "913f326f",
   "metadata": {},
   "source": [
    "### graphrag/retrieval.py"
   ]
  },
  {
   "cell_type": "code",
   "execution_count": 4,
   "id": "35b13d7c",
   "metadata": {},
   "outputs": [
    {
     "ename": "NameError",
     "evalue": "name 'G' is not defined",
     "output_type": "error",
     "traceback": [
      "\u001b[1;31m---------------------------------------------------------------------------\u001b[0m",
      "\u001b[1;31mNameError\u001b[0m                                 Traceback (most recent call last)",
      "Cell \u001b[1;32mIn[4], line 4\u001b[0m\n\u001b[0;32m      1\u001b[0m \u001b[38;5;28;01mfrom\u001b[39;00m\u001b[38;5;250m \u001b[39m\u001b[38;5;21;01mgraphrag\u001b[39;00m\u001b[38;5;21;01m.\u001b[39;00m\u001b[38;5;21;01mretrieval\u001b[39;00m\u001b[38;5;250m \u001b[39m\u001b[38;5;28;01mimport\u001b[39;00m GraphRetriever\n\u001b[0;32m      3\u001b[0m chunk_index \u001b[38;5;241m=\u001b[39m {c\u001b[38;5;241m.\u001b[39mchunk_id: c \u001b[38;5;28;01mfor\u001b[39;00m c \u001b[38;5;129;01min\u001b[39;00m chunks}\n\u001b[1;32m----> 4\u001b[0m retriever \u001b[38;5;241m=\u001b[39m GraphRetriever(graph\u001b[38;5;241m=\u001b[39mG, chunk_index\u001b[38;5;241m=\u001b[39mchunk_index, embedder\u001b[38;5;241m=\u001b[39memb, chunk_embeddings\u001b[38;5;241m=\u001b[39m{k: e\u001b[38;5;241m.\u001b[39mvector \u001b[38;5;28;01mfor\u001b[39;00m k, e \u001b[38;5;129;01min\u001b[39;00m emb\u001b[38;5;241m.\u001b[39mfit_transform_chunks(chunks)\u001b[38;5;241m.\u001b[39mitems()})\n\u001b[0;32m      5\u001b[0m \u001b[38;5;28;01mfor\u001b[39;00m r \u001b[38;5;129;01min\u001b[39;00m retriever\u001b[38;5;241m.\u001b[39mquery(\u001b[38;5;124m\"\u001b[39m\u001b[38;5;124mWhat is GraphRAG?\u001b[39m\u001b[38;5;124m\"\u001b[39m, k\u001b[38;5;241m=\u001b[39m\u001b[38;5;241m5\u001b[39m)[:\u001b[38;5;241m3\u001b[39m]:\n\u001b[0;32m      6\u001b[0m     \u001b[38;5;28mprint\u001b[39m(r\u001b[38;5;241m.\u001b[39mscore, \u001b[38;5;124m\"\u001b[39m\u001b[38;5;124m->\u001b[39m\u001b[38;5;124m\"\u001b[39m, \u001b[38;5;124m\"\u001b[39m\u001b[38;5;124m -> \u001b[39m\u001b[38;5;124m\"\u001b[39m\u001b[38;5;241m.\u001b[39mjoin(r\u001b[38;5;241m.\u001b[39mtrail))\n",
      "\u001b[1;31mNameError\u001b[0m: name 'G' is not defined"
     ]
    }
   ],
   "source": [
    "from graphrag.retrieval import GraphRetriever\n",
    "\n",
    "chunk_index = {c.chunk_id: c for c in chunks}\n",
    "retriever = GraphRetriever(graph=G, chunk_index=chunk_index, embedder=emb, chunk_embeddings={k: e.vector for k, e in emb.fit_transform_chunks(chunks).items()})\n",
    "for r in retriever.query(\"What is GraphRAG?\", k=5)[:3]:\n",
    "    print(r.score, \"->\", \" -> \".join(r.trail))"
   ]
  }
 ],
 "metadata": {
  "kernelspec": {
   "display_name": "base",
   "language": "python",
   "name": "python3"
  },
  "language_info": {
   "codemirror_mode": {
    "name": "ipython",
    "version": 3
   },
   "file_extension": ".py",
   "mimetype": "text/x-python",
   "name": "python",
   "nbconvert_exporter": "python",
   "pygments_lexer": "ipython3",
   "version": "3.13.5"
  }
 },
 "nbformat": 4,
 "nbformat_minor": 5
}
